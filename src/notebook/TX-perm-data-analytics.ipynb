{
 "cells": [
  {
   "cell_type": "code",
   "execution_count": 1,
   "metadata": {},
   "outputs": [],
   "source": [
    "import pandas as pd\n",
    "import os\n",
    "import matplotlib.pyplot as plt\n",
    "%matplotlib inline"
   ]
  },
  {
   "cell_type": "code",
   "execution_count": 2,
   "metadata": {},
   "outputs": [],
   "source": [
    "data_folder = os.getcwd().replace(\"notebook\",\"data\")\n",
    "input_filePath = os.path.join(data_folder,\"TX_PERM_data_set_2022_Q4.csv\")\n",
    "#read csv file to dataframe\n",
    "tx_df = pd.read_csv(input_filePath)\n"
   ]
  },
  {
   "cell_type": "code",
   "execution_count": 3,
   "metadata": {},
   "outputs": [
    {
     "data": {
      "text/html": [
       "<div>\n",
       "<style scoped>\n",
       "    .dataframe tbody tr th:only-of-type {\n",
       "        vertical-align: middle;\n",
       "    }\n",
       "\n",
       "    .dataframe tbody tr th {\n",
       "        vertical-align: top;\n",
       "    }\n",
       "\n",
       "    .dataframe thead th {\n",
       "        text-align: right;\n",
       "    }\n",
       "</style>\n",
       "<table border=\"1\" class=\"dataframe\">\n",
       "  <thead>\n",
       "    <tr style=\"text-align: right;\">\n",
       "      <th></th>\n",
       "      <th>Unnamed: 0</th>\n",
       "      <th>Unnamed: 0.1</th>\n",
       "      <th>CASE_NUMBER</th>\n",
       "      <th>CASE_STATUS</th>\n",
       "      <th>WORKSITE_CITY</th>\n",
       "      <th>WORKSITE_STATE</th>\n",
       "      <th>EMPLOYER_NAME</th>\n",
       "      <th>EMPLOYER_STATE_PROVINCE</th>\n",
       "      <th>MAJOR_FIELD_OF_STUDY</th>\n",
       "      <th>JOB_TITLE</th>\n",
       "      <th>RECEIVED_DATE</th>\n",
       "      <th>DECISION_DATE</th>\n",
       "      <th>JOB_TITLE.1</th>\n",
       "      <th>MINIMUM_EDUCATION</th>\n",
       "    </tr>\n",
       "  </thead>\n",
       "  <tbody>\n",
       "    <tr>\n",
       "      <th>0</th>\n",
       "      <td>5</td>\n",
       "      <td>5</td>\n",
       "      <td>A-21110-76321</td>\n",
       "      <td>Certified-Expired</td>\n",
       "      <td>Irving</td>\n",
       "      <td>TEXAS</td>\n",
       "      <td>VERIZON COMMUNICATIONS INC.,  ALL ITS SUBSIDIA...</td>\n",
       "      <td>NEW YORK</td>\n",
       "      <td>Computer Science, Computer Engineering, or a r...</td>\n",
       "      <td>Sr. Manager, Systems Engineering</td>\n",
       "      <td>2021-04-28</td>\n",
       "      <td>2021-10-01</td>\n",
       "      <td>Sr. Manager, Systems Engineering</td>\n",
       "      <td>Bachelor's</td>\n",
       "    </tr>\n",
       "    <tr>\n",
       "      <th>1</th>\n",
       "      <td>9</td>\n",
       "      <td>9</td>\n",
       "      <td>A-20345-31881</td>\n",
       "      <td>Denied</td>\n",
       "      <td>Rockport</td>\n",
       "      <td>TEXAS</td>\n",
       "      <td>Contacting Association Solutions LLC</td>\n",
       "      <td>TEXAS</td>\n",
       "      <td>Engineering</td>\n",
       "      <td>Construction Field Engineer</td>\n",
       "      <td>2020-12-11</td>\n",
       "      <td>2021-10-01</td>\n",
       "      <td>Construction Field Engineer</td>\n",
       "      <td>Bachelor's</td>\n",
       "    </tr>\n",
       "    <tr>\n",
       "      <th>2</th>\n",
       "      <td>20</td>\n",
       "      <td>20</td>\n",
       "      <td>A-21083-66233</td>\n",
       "      <td>Certified-Expired</td>\n",
       "      <td>College Station</td>\n",
       "      <td>TEXAS</td>\n",
       "      <td>VIASAT, INC.</td>\n",
       "      <td>CALIFORNIA</td>\n",
       "      <td>See H.14</td>\n",
       "      <td>Software Engineer</td>\n",
       "      <td>2021-04-22</td>\n",
       "      <td>2021-10-01</td>\n",
       "      <td>Software Engineer</td>\n",
       "      <td>Bachelor's</td>\n",
       "    </tr>\n",
       "    <tr>\n",
       "      <th>3</th>\n",
       "      <td>82</td>\n",
       "      <td>82</td>\n",
       "      <td>A-20320-21215</td>\n",
       "      <td>Certified-Expired</td>\n",
       "      <td>DALLAS</td>\n",
       "      <td>TEXAS</td>\n",
       "      <td>KPI DATA SYS, INC</td>\n",
       "      <td>TEXAS</td>\n",
       "      <td>Comp Sci (any) Info Technology (any) Engg (any...</td>\n",
       "      <td>SOFTWARE DEVELOPER/ENGINEER</td>\n",
       "      <td>2020-11-16</td>\n",
       "      <td>2021-10-01</td>\n",
       "      <td>SOFTWARE DEVELOPER/ENGINEER</td>\n",
       "      <td>Master's</td>\n",
       "    </tr>\n",
       "    <tr>\n",
       "      <th>4</th>\n",
       "      <td>102</td>\n",
       "      <td>102</td>\n",
       "      <td>A-21098-71912</td>\n",
       "      <td>Certified-Expired</td>\n",
       "      <td>PLANO</td>\n",
       "      <td>TEXAS</td>\n",
       "      <td>TEK LEADERS INC</td>\n",
       "      <td>TEXAS</td>\n",
       "      <td>Computer</td>\n",
       "      <td>Software Developer / Analyst</td>\n",
       "      <td>2021-04-14</td>\n",
       "      <td>2021-10-01</td>\n",
       "      <td>Software Developer / Analyst</td>\n",
       "      <td>Master's</td>\n",
       "    </tr>\n",
       "  </tbody>\n",
       "</table>\n",
       "</div>"
      ],
      "text/plain": [
       "   Unnamed: 0  Unnamed: 0.1    CASE_NUMBER        CASE_STATUS  \\\n",
       "0           5             5  A-21110-76321  Certified-Expired   \n",
       "1           9             9  A-20345-31881             Denied   \n",
       "2          20            20  A-21083-66233  Certified-Expired   \n",
       "3          82            82  A-20320-21215  Certified-Expired   \n",
       "4         102           102  A-21098-71912  Certified-Expired   \n",
       "\n",
       "     WORKSITE_CITY WORKSITE_STATE  \\\n",
       "0           Irving          TEXAS   \n",
       "1         Rockport          TEXAS   \n",
       "2  College Station          TEXAS   \n",
       "3           DALLAS          TEXAS   \n",
       "4            PLANO          TEXAS   \n",
       "\n",
       "                                       EMPLOYER_NAME EMPLOYER_STATE_PROVINCE  \\\n",
       "0  VERIZON COMMUNICATIONS INC.,  ALL ITS SUBSIDIA...                NEW YORK   \n",
       "1               Contacting Association Solutions LLC                   TEXAS   \n",
       "2                                       VIASAT, INC.              CALIFORNIA   \n",
       "3                                  KPI DATA SYS, INC                   TEXAS   \n",
       "4                                    TEK LEADERS INC                   TEXAS   \n",
       "\n",
       "                                MAJOR_FIELD_OF_STUDY  \\\n",
       "0  Computer Science, Computer Engineering, or a r...   \n",
       "1                                        Engineering   \n",
       "2                                           See H.14   \n",
       "3  Comp Sci (any) Info Technology (any) Engg (any...   \n",
       "4                                           Computer   \n",
       "\n",
       "                          JOB_TITLE RECEIVED_DATE DECISION_DATE  \\\n",
       "0  Sr. Manager, Systems Engineering    2021-04-28    2021-10-01   \n",
       "1       Construction Field Engineer    2020-12-11    2021-10-01   \n",
       "2                 Software Engineer    2021-04-22    2021-10-01   \n",
       "3       SOFTWARE DEVELOPER/ENGINEER    2020-11-16    2021-10-01   \n",
       "4      Software Developer / Analyst    2021-04-14    2021-10-01   \n",
       "\n",
       "                        JOB_TITLE.1 MINIMUM_EDUCATION  \n",
       "0  Sr. Manager, Systems Engineering        Bachelor's  \n",
       "1       Construction Field Engineer        Bachelor's  \n",
       "2                 Software Engineer        Bachelor's  \n",
       "3       SOFTWARE DEVELOPER/ENGINEER          Master's  \n",
       "4      Software Developer / Analyst          Master's  "
      ]
     },
     "execution_count": 3,
     "metadata": {},
     "output_type": "execute_result"
    }
   ],
   "source": [
    "tx_df.head()"
   ]
  },
  {
   "cell_type": "code",
   "execution_count": 4,
   "metadata": {},
   "outputs": [
    {
     "data": {
      "text/html": [
       "<div>\n",
       "<style scoped>\n",
       "    .dataframe tbody tr th:only-of-type {\n",
       "        vertical-align: middle;\n",
       "    }\n",
       "\n",
       "    .dataframe tbody tr th {\n",
       "        vertical-align: top;\n",
       "    }\n",
       "\n",
       "    .dataframe thead th {\n",
       "        text-align: right;\n",
       "    }\n",
       "</style>\n",
       "<table border=\"1\" class=\"dataframe\">\n",
       "  <thead>\n",
       "    <tr style=\"text-align: right;\">\n",
       "      <th></th>\n",
       "      <th>CASE_NUMBER</th>\n",
       "      <th>CASE_STATUS</th>\n",
       "      <th>WORKSITE_CITY</th>\n",
       "      <th>WORKSITE_STATE</th>\n",
       "      <th>EMPLOYER_NAME</th>\n",
       "      <th>EMPLOYER_STATE_PROVINCE</th>\n",
       "      <th>MAJOR_FIELD_OF_STUDY</th>\n",
       "      <th>JOB_TITLE</th>\n",
       "      <th>RECEIVED_DATE</th>\n",
       "      <th>DECISION_DATE</th>\n",
       "      <th>JOB_TITLE.1</th>\n",
       "      <th>MINIMUM_EDUCATION</th>\n",
       "    </tr>\n",
       "  </thead>\n",
       "  <tbody>\n",
       "    <tr>\n",
       "      <th>0</th>\n",
       "      <td>A-21110-76321</td>\n",
       "      <td>Certified-Expired</td>\n",
       "      <td>Irving</td>\n",
       "      <td>TEXAS</td>\n",
       "      <td>VERIZON COMMUNICATIONS INC.,  ALL ITS SUBSIDIA...</td>\n",
       "      <td>NEW YORK</td>\n",
       "      <td>Computer Science, Computer Engineering, or a r...</td>\n",
       "      <td>Sr. Manager, Systems Engineering</td>\n",
       "      <td>2021-04-28</td>\n",
       "      <td>2021-10-01</td>\n",
       "      <td>Sr. Manager, Systems Engineering</td>\n",
       "      <td>Bachelor's</td>\n",
       "    </tr>\n",
       "    <tr>\n",
       "      <th>1</th>\n",
       "      <td>A-20345-31881</td>\n",
       "      <td>Denied</td>\n",
       "      <td>Rockport</td>\n",
       "      <td>TEXAS</td>\n",
       "      <td>Contacting Association Solutions LLC</td>\n",
       "      <td>TEXAS</td>\n",
       "      <td>Engineering</td>\n",
       "      <td>Construction Field Engineer</td>\n",
       "      <td>2020-12-11</td>\n",
       "      <td>2021-10-01</td>\n",
       "      <td>Construction Field Engineer</td>\n",
       "      <td>Bachelor's</td>\n",
       "    </tr>\n",
       "    <tr>\n",
       "      <th>2</th>\n",
       "      <td>A-21083-66233</td>\n",
       "      <td>Certified-Expired</td>\n",
       "      <td>College Station</td>\n",
       "      <td>TEXAS</td>\n",
       "      <td>VIASAT, INC.</td>\n",
       "      <td>CALIFORNIA</td>\n",
       "      <td>See H.14</td>\n",
       "      <td>Software Engineer</td>\n",
       "      <td>2021-04-22</td>\n",
       "      <td>2021-10-01</td>\n",
       "      <td>Software Engineer</td>\n",
       "      <td>Bachelor's</td>\n",
       "    </tr>\n",
       "    <tr>\n",
       "      <th>3</th>\n",
       "      <td>A-20320-21215</td>\n",
       "      <td>Certified-Expired</td>\n",
       "      <td>DALLAS</td>\n",
       "      <td>TEXAS</td>\n",
       "      <td>KPI DATA SYS, INC</td>\n",
       "      <td>TEXAS</td>\n",
       "      <td>Comp Sci (any) Info Technology (any) Engg (any...</td>\n",
       "      <td>SOFTWARE DEVELOPER/ENGINEER</td>\n",
       "      <td>2020-11-16</td>\n",
       "      <td>2021-10-01</td>\n",
       "      <td>SOFTWARE DEVELOPER/ENGINEER</td>\n",
       "      <td>Master's</td>\n",
       "    </tr>\n",
       "    <tr>\n",
       "      <th>4</th>\n",
       "      <td>A-21098-71912</td>\n",
       "      <td>Certified-Expired</td>\n",
       "      <td>PLANO</td>\n",
       "      <td>TEXAS</td>\n",
       "      <td>TEK LEADERS INC</td>\n",
       "      <td>TEXAS</td>\n",
       "      <td>Computer</td>\n",
       "      <td>Software Developer / Analyst</td>\n",
       "      <td>2021-04-14</td>\n",
       "      <td>2021-10-01</td>\n",
       "      <td>Software Developer / Analyst</td>\n",
       "      <td>Master's</td>\n",
       "    </tr>\n",
       "  </tbody>\n",
       "</table>\n",
       "</div>"
      ],
      "text/plain": [
       "     CASE_NUMBER        CASE_STATUS    WORKSITE_CITY WORKSITE_STATE  \\\n",
       "0  A-21110-76321  Certified-Expired           Irving          TEXAS   \n",
       "1  A-20345-31881             Denied         Rockport          TEXAS   \n",
       "2  A-21083-66233  Certified-Expired  College Station          TEXAS   \n",
       "3  A-20320-21215  Certified-Expired           DALLAS          TEXAS   \n",
       "4  A-21098-71912  Certified-Expired            PLANO          TEXAS   \n",
       "\n",
       "                                       EMPLOYER_NAME EMPLOYER_STATE_PROVINCE  \\\n",
       "0  VERIZON COMMUNICATIONS INC.,  ALL ITS SUBSIDIA...                NEW YORK   \n",
       "1               Contacting Association Solutions LLC                   TEXAS   \n",
       "2                                       VIASAT, INC.              CALIFORNIA   \n",
       "3                                  KPI DATA SYS, INC                   TEXAS   \n",
       "4                                    TEK LEADERS INC                   TEXAS   \n",
       "\n",
       "                                MAJOR_FIELD_OF_STUDY  \\\n",
       "0  Computer Science, Computer Engineering, or a r...   \n",
       "1                                        Engineering   \n",
       "2                                           See H.14   \n",
       "3  Comp Sci (any) Info Technology (any) Engg (any...   \n",
       "4                                           Computer   \n",
       "\n",
       "                          JOB_TITLE RECEIVED_DATE DECISION_DATE  \\\n",
       "0  Sr. Manager, Systems Engineering    2021-04-28    2021-10-01   \n",
       "1       Construction Field Engineer    2020-12-11    2021-10-01   \n",
       "2                 Software Engineer    2021-04-22    2021-10-01   \n",
       "3       SOFTWARE DEVELOPER/ENGINEER    2020-11-16    2021-10-01   \n",
       "4      Software Developer / Analyst    2021-04-14    2021-10-01   \n",
       "\n",
       "                        JOB_TITLE.1 MINIMUM_EDUCATION  \n",
       "0  Sr. Manager, Systems Engineering        Bachelor's  \n",
       "1       Construction Field Engineer        Bachelor's  \n",
       "2                 Software Engineer        Bachelor's  \n",
       "3       SOFTWARE DEVELOPER/ENGINEER          Master's  \n",
       "4      Software Developer / Analyst          Master's  "
      ]
     },
     "execution_count": 4,
     "metadata": {},
     "output_type": "execute_result"
    }
   ],
   "source": [
    "tx_df = tx_df.loc[:,tx_df.columns != 'Unnamed: 0']\n",
    "tx_df = tx_df.loc[:,tx_df.columns != 'Unnamed: 0.1']\n",
    "tx_df.head()\n"
   ]
  },
  {
   "cell_type": "code",
   "execution_count": 21,
   "metadata": {},
   "outputs": [
    {
     "data": {
      "text/plain": [
       "Index(['INFOSYS LTD.', 'AMAZON WEB SERVICES, INC.', 'MVT SERVICES, LLC',\n",
       "       'JP MORGAN CHASE  CO', 'CHARLES SCHWAB  CO., INC.',\n",
       "       'AMAZON.COM SERVICES LLC', 'HCL AMERICA INC.', 'MAXEY TRAILERS MFG INC',\n",
       "       'ADVANCED MICRO DEVICES, INC. AMD', 'INTEL CORPORATION',\n",
       "       'VISA TECHNOLOGY AND OPERATIONS, LLC', 'NTT DATA, INC',\n",
       "       'ATOS SYNTEL INC', 'ORACLE AMERICA, INC.', 'DELOITTE CONSULTING LLP',\n",
       "       'DELL USA LP', 'WALMART ASSOCIATES, INC.', 'Vsion Technologies,INC',\n",
       "       'TEK LEADERS INC', 'AMERICAN AIRLINES'],\n",
       "      dtype='object')"
      ]
     },
     "execution_count": 21,
     "metadata": {},
     "output_type": "execute_result"
    }
   ],
   "source": [
    "tx_df.EMPLOYER_NAME.value_counts().index[:20]"
   ]
  },
  {
   "cell_type": "code",
   "execution_count": 25,
   "metadata": {},
   "outputs": [
    {
     "data": {
      "text/plain": [
       "Index(['Technology Lead (Open Systems) - US', 'Software Developer',\n",
       "       'Software Engineer', 'Software Developer / Analyst', 'TRUCK DRIVER',\n",
       "       'Technical Test Lead - U.S.', 'Technical Test Lead - US',\n",
       "       'Senior Software Engineer', 'Project Manager-US', 'WELDER',\n",
       "       'Lead Consultant (Domain) - US', 'Technology Architect - U.S.',\n",
       "       'Technology Lead (Business Intelligence) - US', 'SOFTWARE DEVELOPER',\n",
       "       'Consultant (Products and Packages) - US', 'Consultant (Domain) – US',\n",
       "       'Technology Lead (Infrastructure Management) - US',\n",
       "       'Assistant Professor', 'Software Development Engineer II',\n",
       "       'Elementary Bilingual Teacher', 'Landscape Laborer',\n",
       "       'Sr. Software Engineer', 'OVER THE ROAD OPERATORS',\n",
       "       'Technology Lead (Enterprise Solutions) - US',\n",
       "       'Component Design Engineer', 'Concrete Finisher/Maintenance',\n",
       "       'Computer Systems Analyst', 'Software Engineer III',\n",
       "       'Consultant (Domain) - U.S.',\n",
       "       'Cloud Support Engineer II (DBA, ANA, BD)'],\n",
       "      dtype='object')"
      ]
     },
     "execution_count": 25,
     "metadata": {},
     "output_type": "execute_result"
    }
   ],
   "source": [
    "tx_df.JOB_TITLE.value_counts().index[:30]"
   ]
  },
  {
   "cell_type": "code",
   "execution_count": 28,
   "metadata": {},
   "outputs": [
    {
     "data": {
      "text/plain": [
       "0        Sr. Manager, Systems Engineering\n",
       "1             Construction Field Engineer\n",
       "2                       Software Engineer\n",
       "3             SOFTWARE DEVELOPER/ENGINEER\n",
       "4            Software Developer / Analyst\n",
       "                       ...               \n",
       "10957            Salvadoran Artisan Baker\n",
       "10958                         FARM WORKER\n",
       "10959           YARD AND WAREHOUSE WORKER\n",
       "10960           YARD AND WAREHOUSE WORKER\n",
       "10961       Jewelry Designer & Consultant\n",
       "Name: JOB_TITLE, Length: 10962, dtype: object"
      ]
     },
     "execution_count": 28,
     "metadata": {},
     "output_type": "execute_result"
    }
   ],
   "source": [
    "tx_df.JOB_TITLE"
   ]
  },
  {
   "cell_type": "code",
   "execution_count": 43,
   "metadata": {},
   "outputs": [
    {
     "data": {
      "text/plain": [
       "0        False\n",
       "1        False\n",
       "2         True\n",
       "3        False\n",
       "4         True\n",
       "         ...  \n",
       "10957    False\n",
       "10958    False\n",
       "10959    False\n",
       "10960    False\n",
       "10961    False\n",
       "Name: JOB_TITLE, Length: 10962, dtype: bool"
      ]
     },
     "execution_count": 43,
     "metadata": {},
     "output_type": "execute_result"
    }
   ],
   "source": [
    "tx_df['JOB_TITLE'].str.contains(\"Software\").astype('bool')"
   ]
  },
  {
   "cell_type": "code",
   "execution_count": 51,
   "metadata": {},
   "outputs": [],
   "source": [
    "data_job_tx = tx_df.loc[tx_df['JOB_TITLE'].str.contains(\"Data\").astype('bool'),:]"
   ]
  },
  {
   "cell_type": "code",
   "execution_count": 52,
   "metadata": {},
   "outputs": [],
   "source": [
    "data_job_tx.to_csv(os.path.join(data_folder,\"TX_data_job.csv\"))"
   ]
  },
  {
   "cell_type": "code",
   "execution_count": 53,
   "metadata": {},
   "outputs": [],
   "source": [
    "import numpy as np"
   ]
  },
  {
   "cell_type": "code",
   "execution_count": 60,
   "metadata": {},
   "outputs": [
    {
     "data": {
      "text/plain": [
       "EMPLOYER_NAME\n",
       "360training.com          1\n",
       "3CORE SYSTEMS INC        2\n",
       "ACADEMIC PARTNERSHIPS    1\n",
       "ADI WORLDLINK, LLC       1\n",
       "ALLY BANK                1\n",
       "                        ..\n",
       "Xcelo Group, Inc.        1\n",
       "Yum Connect, LLC         1\n",
       "ZONES, LLC               1\n",
       "ZYNGA INC.               1\n",
       "iconix labs inc          1\n",
       "Name: JOB_TITLE, Length: 190, dtype: int64"
      ]
     },
     "execution_count": 60,
     "metadata": {},
     "output_type": "execute_result"
    }
   ],
   "source": [
    "data_job_tx[['JOB_TITLE','EMPLOYER_NAME']].groupby('EMPLOYER_NAME')['JOB_TITLE'].count()"
   ]
  },
  {
   "cell_type": "code",
   "execution_count": 67,
   "metadata": {},
   "outputs": [
    {
     "ename": "ValueError",
     "evalue": "Grouper for 'JOB_TITLE' not 1-dimensional",
     "output_type": "error",
     "traceback": [
      "\u001b[1;31m---------------------------------------------------------------------------\u001b[0m",
      "\u001b[1;31mValueError\u001b[0m                                Traceback (most recent call last)",
      "\u001b[1;32m~\\AppData\\Local\\Temp\\ipykernel_4176\\1325989267.py\u001b[0m in \u001b[0;36m<module>\u001b[1;34m\u001b[0m\n\u001b[1;32m----> 1\u001b[1;33m \u001b[0mpd\u001b[0m\u001b[1;33m.\u001b[0m\u001b[0mpivot_table\u001b[0m\u001b[1;33m(\u001b[0m\u001b[0mdata_job_tx\u001b[0m\u001b[1;33m,\u001b[0m\u001b[0mvalues\u001b[0m \u001b[1;33m=\u001b[0m\u001b[1;34m'JOB_TITLE'\u001b[0m\u001b[1;33m,\u001b[0m\u001b[0mindex\u001b[0m\u001b[1;33m=\u001b[0m\u001b[1;34m'JOB_TITLE'\u001b[0m\u001b[1;33m,\u001b[0m\u001b[0mcolumns\u001b[0m \u001b[1;33m=\u001b[0m \u001b[1;34m'MINIMUM_EDUCATION'\u001b[0m\u001b[1;33m)\u001b[0m\u001b[1;33m\u001b[0m\u001b[0m\n\u001b[0m",
      "\u001b[1;32mc:\\Users\\cindydao\\OneDrive - UNT System\\Study\\Fall 2022\\DSCI 4700\\Coding\\venv1\\lib\\site-packages\\pandas\\core\\reshape\\pivot.py\u001b[0m in \u001b[0;36mpivot_table\u001b[1;34m(data, values, index, columns, aggfunc, fill_value, margins, dropna, margins_name, observed)\u001b[0m\n\u001b[0;32m    109\u001b[0m         \u001b[0mvalues\u001b[0m \u001b[1;33m=\u001b[0m \u001b[0mlist\u001b[0m\u001b[1;33m(\u001b[0m\u001b[0mvalues\u001b[0m\u001b[1;33m)\u001b[0m\u001b[1;33m\u001b[0m\u001b[0m\n\u001b[0;32m    110\u001b[0m \u001b[1;33m\u001b[0m\u001b[0m\n\u001b[1;32m--> 111\u001b[1;33m     \u001b[0mgrouped\u001b[0m \u001b[1;33m=\u001b[0m \u001b[0mdata\u001b[0m\u001b[1;33m.\u001b[0m\u001b[0mgroupby\u001b[0m\u001b[1;33m(\u001b[0m\u001b[0mkeys\u001b[0m\u001b[1;33m,\u001b[0m \u001b[0mobserved\u001b[0m\u001b[1;33m=\u001b[0m\u001b[0mobserved\u001b[0m\u001b[1;33m)\u001b[0m\u001b[1;33m\u001b[0m\u001b[0m\n\u001b[0m\u001b[0;32m    112\u001b[0m     \u001b[0magged\u001b[0m \u001b[1;33m=\u001b[0m \u001b[0mgrouped\u001b[0m\u001b[1;33m.\u001b[0m\u001b[0magg\u001b[0m\u001b[1;33m(\u001b[0m\u001b[0maggfunc\u001b[0m\u001b[1;33m)\u001b[0m\u001b[1;33m\u001b[0m\u001b[0m\n\u001b[0;32m    113\u001b[0m     \u001b[1;32mif\u001b[0m \u001b[0mdropna\u001b[0m \u001b[1;32mand\u001b[0m \u001b[0misinstance\u001b[0m\u001b[1;33m(\u001b[0m\u001b[0magged\u001b[0m\u001b[1;33m,\u001b[0m \u001b[0mABCDataFrame\u001b[0m\u001b[1;33m)\u001b[0m \u001b[1;32mand\u001b[0m \u001b[0mlen\u001b[0m\u001b[1;33m(\u001b[0m\u001b[0magged\u001b[0m\u001b[1;33m.\u001b[0m\u001b[0mcolumns\u001b[0m\u001b[1;33m)\u001b[0m\u001b[1;33m:\u001b[0m\u001b[1;33m\u001b[0m\u001b[0m\n",
      "\u001b[1;32mc:\\Users\\cindydao\\OneDrive - UNT System\\Study\\Fall 2022\\DSCI 4700\\Coding\\venv1\\lib\\site-packages\\pandas\\core\\frame.py\u001b[0m in \u001b[0;36mgroupby\u001b[1;34m(self, by, axis, level, as_index, sort, group_keys, squeeze, observed, dropna)\u001b[0m\n\u001b[0;32m   6523\u001b[0m             \u001b[0msqueeze\u001b[0m\u001b[1;33m=\u001b[0m\u001b[0msqueeze\u001b[0m\u001b[1;33m,\u001b[0m\u001b[1;33m\u001b[0m\u001b[0m\n\u001b[0;32m   6524\u001b[0m             \u001b[0mobserved\u001b[0m\u001b[1;33m=\u001b[0m\u001b[0mobserved\u001b[0m\u001b[1;33m,\u001b[0m\u001b[1;33m\u001b[0m\u001b[0m\n\u001b[1;32m-> 6525\u001b[1;33m             \u001b[0mdropna\u001b[0m\u001b[1;33m=\u001b[0m\u001b[0mdropna\u001b[0m\u001b[1;33m,\u001b[0m\u001b[1;33m\u001b[0m\u001b[0m\n\u001b[0m\u001b[0;32m   6526\u001b[0m         )\n\u001b[0;32m   6527\u001b[0m \u001b[1;33m\u001b[0m\u001b[0m\n",
      "\u001b[1;32mc:\\Users\\cindydao\\OneDrive - UNT System\\Study\\Fall 2022\\DSCI 4700\\Coding\\venv1\\lib\\site-packages\\pandas\\core\\groupby\\groupby.py\u001b[0m in \u001b[0;36m__init__\u001b[1;34m(self, obj, keys, axis, level, grouper, exclusions, selection, as_index, sort, group_keys, squeeze, observed, mutated, dropna)\u001b[0m\n\u001b[0;32m    531\u001b[0m                 \u001b[0mobserved\u001b[0m\u001b[1;33m=\u001b[0m\u001b[0mobserved\u001b[0m\u001b[1;33m,\u001b[0m\u001b[1;33m\u001b[0m\u001b[0m\n\u001b[0;32m    532\u001b[0m                 \u001b[0mmutated\u001b[0m\u001b[1;33m=\u001b[0m\u001b[0mself\u001b[0m\u001b[1;33m.\u001b[0m\u001b[0mmutated\u001b[0m\u001b[1;33m,\u001b[0m\u001b[1;33m\u001b[0m\u001b[0m\n\u001b[1;32m--> 533\u001b[1;33m                 \u001b[0mdropna\u001b[0m\u001b[1;33m=\u001b[0m\u001b[0mself\u001b[0m\u001b[1;33m.\u001b[0m\u001b[0mdropna\u001b[0m\u001b[1;33m,\u001b[0m\u001b[1;33m\u001b[0m\u001b[0m\n\u001b[0m\u001b[0;32m    534\u001b[0m             )\n\u001b[0;32m    535\u001b[0m \u001b[1;33m\u001b[0m\u001b[0m\n",
      "\u001b[1;32mc:\\Users\\cindydao\\OneDrive - UNT System\\Study\\Fall 2022\\DSCI 4700\\Coding\\venv1\\lib\\site-packages\\pandas\\core\\groupby\\grouper.py\u001b[0m in \u001b[0;36mget_grouper\u001b[1;34m(obj, key, axis, level, sort, observed, mutated, validate, dropna)\u001b[0m\n\u001b[0;32m    812\u001b[0m                 \u001b[0mdropna\u001b[0m\u001b[1;33m=\u001b[0m\u001b[0mdropna\u001b[0m\u001b[1;33m,\u001b[0m\u001b[1;33m\u001b[0m\u001b[0m\n\u001b[0;32m    813\u001b[0m             )\n\u001b[1;32m--> 814\u001b[1;33m             \u001b[1;32mif\u001b[0m \u001b[1;32mnot\u001b[0m \u001b[0misinstance\u001b[0m\u001b[1;33m(\u001b[0m\u001b[0mgpr\u001b[0m\u001b[1;33m,\u001b[0m \u001b[0mGrouping\u001b[0m\u001b[1;33m)\u001b[0m\u001b[1;33m\u001b[0m\u001b[0m\n\u001b[0m\u001b[0;32m    815\u001b[0m             \u001b[1;32melse\u001b[0m \u001b[0mgpr\u001b[0m\u001b[1;33m\u001b[0m\u001b[0m\n\u001b[0;32m    816\u001b[0m         )\n",
      "\u001b[1;32mc:\\Users\\cindydao\\OneDrive - UNT System\\Study\\Fall 2022\\DSCI 4700\\Coding\\venv1\\lib\\site-packages\\pandas\\core\\groupby\\grouper.py\u001b[0m in \u001b[0;36m__init__\u001b[1;34m(self, index, grouper, obj, name, level, sort, observed, in_axis, dropna)\u001b[0m\n\u001b[0;32m    515\u001b[0m                 \u001b[1;32mif\u001b[0m \u001b[0mgetattr\u001b[0m\u001b[1;33m(\u001b[0m\u001b[0mself\u001b[0m\u001b[1;33m.\u001b[0m\u001b[0mgrouper\u001b[0m\u001b[1;33m,\u001b[0m \u001b[1;34m\"ndim\"\u001b[0m\u001b[1;33m,\u001b[0m \u001b[1;36m1\u001b[0m\u001b[1;33m)\u001b[0m \u001b[1;33m!=\u001b[0m \u001b[1;36m1\u001b[0m\u001b[1;33m:\u001b[0m\u001b[1;33m\u001b[0m\u001b[0m\n\u001b[0;32m    516\u001b[0m                     \u001b[0mt\u001b[0m \u001b[1;33m=\u001b[0m \u001b[0mself\u001b[0m\u001b[1;33m.\u001b[0m\u001b[0mname\u001b[0m \u001b[1;32mor\u001b[0m \u001b[0mstr\u001b[0m\u001b[1;33m(\u001b[0m\u001b[0mtype\u001b[0m\u001b[1;33m(\u001b[0m\u001b[0mself\u001b[0m\u001b[1;33m.\u001b[0m\u001b[0mgrouper\u001b[0m\u001b[1;33m)\u001b[0m\u001b[1;33m)\u001b[0m\u001b[1;33m\u001b[0m\u001b[0m\n\u001b[1;32m--> 517\u001b[1;33m                     \u001b[1;32mraise\u001b[0m \u001b[0mValueError\u001b[0m\u001b[1;33m(\u001b[0m\u001b[1;34mf\"Grouper for '{t}' not 1-dimensional\"\u001b[0m\u001b[1;33m)\u001b[0m\u001b[1;33m\u001b[0m\u001b[0m\n\u001b[0m\u001b[0;32m    518\u001b[0m                 \u001b[0mself\u001b[0m\u001b[1;33m.\u001b[0m\u001b[0mgrouper\u001b[0m \u001b[1;33m=\u001b[0m \u001b[0mself\u001b[0m\u001b[1;33m.\u001b[0m\u001b[0mindex\u001b[0m\u001b[1;33m.\u001b[0m\u001b[0mmap\u001b[0m\u001b[1;33m(\u001b[0m\u001b[0mself\u001b[0m\u001b[1;33m.\u001b[0m\u001b[0mgrouper\u001b[0m\u001b[1;33m)\u001b[0m\u001b[1;33m\u001b[0m\u001b[0m\n\u001b[0;32m    519\u001b[0m                 if not (\n",
      "\u001b[1;31mValueError\u001b[0m: Grouper for 'JOB_TITLE' not 1-dimensional"
     ]
    }
   ],
   "source": [
    "pd.pivot_table(data_job_tx,values ='JOB_TITLE',index='JOB_TITLE',columns = 'MINIMUM_EDUCATION')"
   ]
  },
  {
   "cell_type": "code",
   "execution_count": 39,
   "metadata": {},
   "outputs": [
    {
     "data": {
      "text/plain": [
       "0        False\n",
       "1        False\n",
       "2        False\n",
       "3        False\n",
       "4        False\n",
       "         ...  \n",
       "10957    False\n",
       "10958    False\n",
       "10959    False\n",
       "10960    False\n",
       "10961    False\n",
       "Name: EMPLOYER_NAME, Length: 10962, dtype: bool"
      ]
     },
     "execution_count": 39,
     "metadata": {},
     "output_type": "execute_result"
    }
   ],
   "source": [
    "tx_df.EMPLOYER_NAME=='NTT DATA, INC'"
   ]
  },
  {
   "cell_type": "code",
   "execution_count": 72,
   "metadata": {},
   "outputs": [
    {
     "data": {
      "text/plain": [
       "EMPLOYER_NAME                                                   \n",
       "Vsion Technologies,INC                                              12\n",
       "AMAZON WEB SERVICES, INC.                                            3\n",
       "AMAZON.COM SERVICES LLC                                              3\n",
       "EXPEDIA, INC.                                                        2\n",
       "HEB                                                                  2\n",
       "CAPITAL ONE SERVICES, LLC                                            2\n",
       "ATLASSIAN INC.                                                       1\n",
       "ERICSSON INC.                                                        1\n",
       "HORIZONSOFTSOLUTIONS, INC                                            1\n",
       "HOME DEPOT PRODUCT AUTHORITY LLC                                     1\n",
       "AMHERST HOLDINGS                                                     1\n",
       "FIRST COMMAND FINANCIAL SERVICES, INC.                               1\n",
       "ANJI TECHNOLOGIES LLC                                                1\n",
       "EXCENTUS CORPORATION                                                 1\n",
       "EOG RESOURCES, INC.                                                  1\n",
       "ATT SERVICES, INC.                                                   1\n",
       "ENBRIDGE EMPLOYEE SERVICES, INC.                                     1\n",
       "DAMAN, INCORPORATED                                                  1\n",
       "KEANE SOFT INC                                                       1\n",
       "CALIX, INC.                                                          1\n",
       "AVANADE                                                              1\n",
       "AUSTIN TRAVIS COUNTY MENTAL HEALTH AND MENTAL RETARDATION CENTER     1\n",
       "JG HEATING AND AIR CONDITIONING                                      1\n",
       "Xcelo Group, Inc.                                                    1\n",
       "XTGLOBAL,INC                                                         1\n",
       "MCKESSON CORPORATION                                                 1\n",
       "WALMART ASSOCIATES, INC.                                             1\n",
       "VMWARE, INC.                                                         1\n",
       "VISA USA                                                             1\n",
       "UNIGO, INC                                                           1\n",
       "TTI, INC.                                                            1\n",
       "TRANSPORTATION SERVICES, INC.                                        1\n",
       "TIS INTERNATIONAL USA, INC.                                          1\n",
       "THAI HEALING MASSAGE CENTER                                          1\n",
       "TEK NINJAS SOLUTIONS LLC                                             1\n",
       "SCHRILL TECHNOLOGIES, INC                                            1\n",
       "SAMSUNG ELECTRONICS AMERICA, INC.                                    1\n",
       "RETAILMENOT, INC                                                     1\n",
       "REPUBLIC FINANCE, LLC                                                1\n",
       "PROCORE TECHNOLOGIES                                                 1\n",
       "PLOY THAI RESTAURANT                                                 1\n",
       "PEGASUS BUSINESS INTELLIGENCE, LP                                    1\n",
       "PACIFIC INVESTMENT MANAGEMENT COMPANY, LLC                           1\n",
       "ORABASE SOLUTIONS LLC                                                1\n",
       "OPTUM SERVICES, INC.                                                 1\n",
       "LYONDELL CHEMICAL COMPANY                                            1\n",
       "dtype: int64"
      ]
     },
     "execution_count": 72,
     "metadata": {},
     "output_type": "execute_result"
    }
   ],
   "source": [
    "tx_df.loc[tx_df.JOB_TITLE.str.contains('Data Engineer').astype('bool'),['EMPLOYER_NAME']].value_counts()"
   ]
  },
  {
   "cell_type": "code",
   "execution_count": null,
   "metadata": {},
   "outputs": [],
   "source": []
  }
 ],
 "metadata": {
  "kernelspec": {
   "display_name": "Python 3",
   "language": "python",
   "name": "python3"
  },
  "language_info": {
   "codemirror_mode": {
    "name": "ipython",
    "version": 3
   },
   "file_extension": ".py",
   "mimetype": "text/x-python",
   "name": "python",
   "nbconvert_exporter": "python",
   "pygments_lexer": "ipython3",
   "version": "3.7.0"
  },
  "orig_nbformat": 4
 },
 "nbformat": 4,
 "nbformat_minor": 2
}
